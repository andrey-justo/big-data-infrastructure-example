{
 "cells": [
  {
   "cell_type": "code",
   "execution_count": 1,
   "metadata": {},
   "outputs": [
    {
     "name": "stdout",
     "output_type": "stream",
     "text": [
      "Starting Spark application\n"
     ]
    },
    {
     "data": {
      "text/html": [
       "<table>\n",
       "<tr><th>ID</th><th>YARN Application ID</th><th>Kind</th><th>State</th><th>Spark UI</th><th>Driver log</th><th>Current session?</th></tr><tr><td>0</td><td>application_1524946739588_0001</td><td>pyspark</td><td>idle</td><td><a target=\"_blank\" href=\"http://10.211.55.101:8088/proxy/application_1524946739588_0001/\">Link</a></td><td><a target=\"_blank\" href=\"http://10.211.55.101:8042/node/containerlogs/container_1524946739588_0001_01_000001/root\">Link</a></td><td>✔</td></tr></table>"
      ],
      "text/plain": [
       "<IPython.core.display.HTML object>"
      ]
     },
     "metadata": {},
     "output_type": "execute_result"
    },
    {
     "name": "stdout",
     "output_type": "stream",
     "text": [
      "SparkSession available as 'spark'.\n"
     ]
    }
   ],
   "source": [
    "# The spark magic will start a session into the livy - you can check the session in http://10.211.55.101:8998/\n",
    "# Run this first block and wait the SparkSession available as 'spark' appear"
   ]
  },
  {
   "cell_type": "code",
   "execution_count": 6,
   "metadata": {},
   "outputs": [
    {
     "name": "stdout",
     "output_type": "stream",
     "text": [
      "<map object at 0x7faabaa33f60>"
     ]
    }
   ],
   "source": [
    "import datetime\n",
    "from pyspark.sql.types import *\n",
    "from pyspark.sql import Row\n",
    "\n",
    "schema = StructType([StructField('stage', StringType(), True),\n",
    "                     StructField('level 1', IntegerType(), True),\n",
    "                     StructField('level 2', IntegerType(), True),\n",
    "                     StructField('last update', DateType(), True)\n",
    "                     ])\n",
    "data = [\n",
    "    ['Stage 1', 10, 10, datetime.datetime(2017, 1, 1)],\n",
    "    ['Stage 2', 5, 5, datetime.datetime(2017, 1, 2)],\n",
    "    ['Stage 3', 1, 2, datetime.datetime(2017, 1, 3)]\n",
    "]\n",
    "\n",
    "RowType = Row(schema.names)\n",
    "sparkData = list(map((lambda d: RowType(*d)), data))\n",
    "print(sparkData)"
   ]
  },
  {
   "cell_type": "code",
   "execution_count": 7,
   "metadata": {},
   "outputs": [
    {
     "name": "stdout",
     "output_type": "stream",
     "text": [
      "3"
     ]
    }
   ],
   "source": [
    "df = spark.createDataFrame(sparkData, schema)\n",
    "print(df.collect())"
   ]
  },
  {
   "cell_type": "code",
   "execution_count": null,
   "metadata": {},
   "outputs": [],
   "source": []
  }
 ],
 "metadata": {
  "kernelspec": {
   "display_name": "PySpark",
   "language": "",
   "name": "pysparkkernel"
  },
  "language_info": {
   "codemirror_mode": {
    "name": "python",
    "version": 2
   },
   "mimetype": "text/x-python",
   "name": "pyspark",
   "pygments_lexer": "python2"
  }
 },
 "nbformat": 4,
 "nbformat_minor": 2
}
